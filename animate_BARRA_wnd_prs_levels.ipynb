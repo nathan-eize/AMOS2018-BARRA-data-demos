{
 "cells": [
  {
   "cell_type": "markdown",
   "metadata": {},
   "source": [
    "# Workshop demo 2\n",
    "\n",
    " Creates an animation of the pressure-level wind data from BARRA-TA and BARRA-R sample data using netCDF4 and matplotlib.\n",
    " Wind vectors over 37 pressure levels.\n",
    "\n",
    " Code written for illustrating BARRA pressure-level data.\n",
    "\n",
    " Chun-Hsu Su, 19 January 2018\n",
    " The Bureau of Meteorology\n",
    "\n"
   ]
  },
  {
   "cell_type": "code",
   "execution_count": 101,
   "metadata": {},
   "outputs": [],
   "source": [
    "import os, sys\n",
    "import numpy as np\n",
    "from netCDF4 import Dataset, num2date, date2num\n",
    "from datetime import datetime\n",
    "from datetime import timedelta\n",
    "import matplotlib.pyplot as plt\n",
    "from matplotlib.animation import FuncAnimation\n",
    "import cartopy.crs as ccrs\n",
    "from matplotlib import cm\n",
    "from mpl_toolkits.basemap import Basemap"
   ]
  },
  {
   "cell_type": "markdown",
   "metadata": {},
   "source": [
    "## Define methods needed to render the animation"
   ]
  },
  {
   "cell_type": "code",
   "execution_count": 102,
   "metadata": {},
   "outputs": [],
   "source": [
    "def get_uv(j):\n",
    "\t\"\"\"\n",
    "\tReturns the lon,lat,pres,u,v values for a given pressure level\n",
    "\tidentified by index j.\n",
    "\t\"\"\"\n",
    "\t_,a,b = modwind['uwind'].shape\n",
    "\tc = max(a,b)\n",
    "\tivl = c/30\n",
    "\tx = datDict['lon'][::ivl]\n",
    "\ty = datDict['lat'][::ivl]\n",
    "\tu = datDict['uwind'][j,::ivl,::ivl]\n",
    "\tv = datDict['vwind'][j,::ivl,::ivl]\n",
    "\tp = datDict['prs'][j]\n",
    "\treturn x,y,p,u,v"
   ]
  },
  {
   "cell_type": "code",
   "execution_count": 103,
   "metadata": {},
   "outputs": [],
   "source": [
    "def update_quiver(j,ax,fig):\n",
    "\t\"\"\"\n",
    "\tUpdate the figure with the wind field at pressure level j.\n",
    "\t\"\"\"\n",
    "\tprint(\"Plotting pressure level {:}\".format(j))\n",
    "\tx,y,p,u,v = get_uv(j)\n",
    "\tQ.set_UVC(u,v)\n",
    "\tax.set_title('Pressure level: {:3.3f} hPa'.format(p),fontsize=14)\n",
    "\treturn Q"
   ]
  },
  {
   "cell_type": "code",
   "execution_count": 104,
   "metadata": {},
   "outputs": [],
   "source": [
    "def init_quiver():\n",
    "\t\"\"\"\n",
    "\tInitialise the figure with the wind field at pressure level j = 0.\n",
    "\t\"\"\"\n",
    "\tglobal Q\n",
    "\tx,y,p,u,v = get_uv(0)\n",
    "\tQ = ax.quiver(x,y,u,v)\n",
    "\tax.set_title('Pressure level: {:3.3f} hPa'.format(p),fontsize=14)\n",
    "\t#ax.set_xlabel('Longitude')\n",
    "\t#ax.set_ylabel('Latitude')\n",
    "\treturn Q"
   ]
  },
  {
   "cell_type": "markdown",
   "metadata": {},
   "source": [
    "## Main script"
   ]
  },
  {
   "cell_type": "markdown",
   "metadata": {},
   "source": [
    "### Specify the data inputs"
   ]
  },
  {
   "cell_type": "code",
   "execution_count": 105,
   "metadata": {},
   "outputs": [],
   "source": [
    "# datetime of file to animate, choose 2015/02/17 00 - 18 for sample data \n",
    "dtFile = datetime(2015,2,7,12,0)"
   ]
  },
  {
   "cell_type": "code",
   "execution_count": 106,
   "metadata": {},
   "outputs": [],
   "source": [
    "# model string, choose BARRA_R or BARRA_TA for sample data\n",
    "model = 'BARRA_R'"
   ]
  },
  {
   "cell_type": "code",
   "execution_count": 107,
   "metadata": {},
   "outputs": [],
   "source": [
    "# define forecast hour to animate\n",
    "forecastHour = 6"
   ]
  },
  {
   "cell_type": "code",
   "execution_count": 108,
   "metadata": {},
   "outputs": [],
   "source": [
    "# basetime\n",
    "dtBasetime = dtFile - timedelta(hours = forecastHour)"
   ]
  },
  {
   "cell_type": "markdown",
   "metadata": {},
   "source": [
    "### Find the data"
   ]
  },
  {
   "cell_type": "code",
   "execution_count": 109,
   "metadata": {},
   "outputs": [],
   "source": [
    "# Where are your sample data downloaded?\n",
    "dataDirRoot = '/g/data/ma05/sample'\n",
    "dataDirTemplate = os.path.join(dataDirRoot, '{model}/v1')"
   ]
  },
  {
   "cell_type": "code",
   "execution_count": 110,
   "metadata": {},
   "outputs": [],
   "source": [
    "# iso 1806 time format string\n",
    "isoFormat = '%Y%m%dT%H%MZ'"
   ]
  },
  {
   "cell_type": "code",
   "execution_count": 111,
   "metadata": {},
   "outputs": [],
   "source": [
    "# file names have a specific structure eg:  BARRA_R/v1/forecast/spec/temp_scrn/2015/12/temp_scrn-fc-spec-PT10M-BARRA_R-v1-20151208T1800Z.nc\n",
    "fnTemplate = os.path.join(dataDirTemplate, 'forecast', '{stream}', '{var}',\\\n",
    "                          '{year:04d}', '{month:02d}', '{var}-fc-{stream}-PT1H-{model}-v1-{basetimeStr}.nc')\n",
    "uFn = fnTemplate.format(model=model, stream='prs', var='wnd_ucmp', year=dtBasetime.year,\\\n",
    "                              month = dtBasetime.month, basetimeStr = dtBasetime.strftime(isoFormat))\n",
    "vFn = fnTemplate.format(model=model, stream='prs', var='wnd_vcmp', year=dtBasetime.year,\\\n",
    "                              month = dtBasetime.month, basetimeStr = dtBasetime.strftime(isoFormat))\n",
    "topoFn = fnTemplate.format(model=model, stream='slv', var='topog', year=dtBasetime.year,\\\n",
    "                              month = dtBasetime.month, basetimeStr = dtBasetime.strftime(isoFormat))"
   ]
  },
  {
   "cell_type": "code",
   "execution_count": 112,
   "metadata": {},
   "outputs": [],
   "source": [
    "# Depending on which model, specify plotting configurations\n",
    "if model == \"BARRA_T\":\n",
    "    # plotting domain extent: lonmin, lonmax, latmin, latmax\n",
    "    domain = [143., 149., -44.185, -39.55]\n",
    "    resolution = 'f' # boundary resolution\n",
    "\n",
    "elif model == \"BARRA_R\":\n",
    "    # Plot over Australia\n",
    "    domain = [110.8, 158. , -45.6, -10.5]\n",
    "    resolution = 'c'\n",
    "    topoFn = topoFn.replace('PT1H', 'PT0H').replace('-fc-', '-an-').replace('forecast','analysis')\n",
    "    "
   ]
  },
  {
   "cell_type": "code",
   "execution_count": 113,
   "metadata": {},
   "outputs": [],
   "source": [
    "# Open the files and read the dimensions data\n",
    "uFid = Dataset(uFn,'r')\n",
    "vFid = Dataset(vFn,'r')\n",
    "zFid = Dataset(topoFn,'r')\n",
    "lat = uFid.variables['latitude'][:]\n",
    "lon = uFid.variables['longitude'][:]\n",
    "time = num2date(uFid.variables['time'][:], uFid.variables['time'].units)"
   ]
  },
  {
   "cell_type": "code",
   "execution_count": 114,
   "metadata": {},
   "outputs": [],
   "source": [
    "# if missing input plotting domain then take the entire thing\n",
    "if domain == None:\n",
    "    domain = [lon.min(), lon.max(), lat.min(), lat.max()]"
   ]
  },
  {
   "cell_type": "code",
   "execution_count": null,
   "metadata": {},
   "outputs": [],
   "source": []
  },
  {
   "cell_type": "code",
   "execution_count": 115,
   "metadata": {},
   "outputs": [],
   "source": [
    "# create logical arrays of the filtered indices by lon, lat and time\n",
    "lonIdxs = np.logical_and(lon>=domain[0], lon<=domain[1])\n",
    "latIdxs = np.logical_and(lat>=domain[2], lat<=domain[3])\n",
    "tIdxs = np.argwhere(time == dtFile).ravel()[0]\n",
    "# truncate the lat lon arrays\n",
    "latTrunc = lat[latIdxs]\n",
    "lonTrunc = lon[lonIdxs]"
   ]
  },
  {
   "cell_type": "code",
   "execution_count": 116,
   "metadata": {},
   "outputs": [
    {
     "data": {
      "text/plain": [
       "odict_keys(['latitude_longitude', 'time', 'pressure', 'latitude', 'longitude', 'forecast_period', 'forecast_reference_time', 'wnd_vcmp'])"
      ]
     },
     "execution_count": 116,
     "metadata": {},
     "output_type": "execute_result"
    }
   ],
   "source": [
    "vFid.variables.keys()"
   ]
  },
  {
   "cell_type": "code",
   "execution_count": 117,
   "metadata": {},
   "outputs": [],
   "source": [
    "# selectively read the wind data\n",
    "uWnd = uFid.variables['wnd_ucmp'][tIdxs,:,latIdxs,lonIdxs]\n",
    "vWnd = vFid.variables['wnd_vcmp'][tIdxs,:,latIdxs,lonIdxs]"
   ]
  },
  {
   "cell_type": "code",
   "execution_count": 118,
   "metadata": {},
   "outputs": [],
   "source": [
    "# get the pressure level information\n",
    "prs = uFid.variables['pressure'][:]\n",
    "nPrs = len(prs)"
   ]
  },
  {
   "cell_type": "code",
   "execution_count": 119,
   "metadata": {},
   "outputs": [],
   "source": [
    "# create data dict\n",
    "datDict = {'lon':lonTrunc, 'lat':latTrunc, 'uwind':uWnd, 'vwind':vWnd, 'prs':prs}"
   ]
  },
  {
   "cell_type": "markdown",
   "metadata": {},
   "source": [
    "### Plotting"
   ]
  },
  {
   "cell_type": "code",
   "execution_count": 120,
   "metadata": {},
   "outputs": [],
   "source": [
    "# plotting configurations\n",
    "dx = (domain[1]-domain[0])/8.0\n",
    "dy = (domain[3]-domain[2])/10.0\n"
   ]
  },
  {
   "cell_type": "code",
   "execution_count": 121,
   "metadata": {},
   "outputs": [
    {
     "data": {
      "text/plain": [
       "{115.90000000000001: ([<matplotlib.lines.Line2D at 0x7f71e51c4390>],\n",
       "  [Text(115.903,-46.072,'115.9°E')]),\n",
       " 121.80000000000001: ([<matplotlib.lines.Line2D at 0x7f71e51fcb70>],\n",
       "  [Text(121.809,-46.072,'121.8°E')]),\n",
       " 127.70000000000002: ([<matplotlib.lines.Line2D at 0x7f71e51fcf60>],\n",
       "  [Text(127.715,-46.072,'127.7°E')]),\n",
       " 133.60000000000002: ([<matplotlib.lines.Line2D at 0x7f71e51d6390>],\n",
       "  [Text(133.62,-46.072,'133.6°E')]),\n",
       " 139.50000000000003: ([<matplotlib.lines.Line2D at 0x7f71e51d6780>],\n",
       "  [Text(139.526,-46.072,'139.5°E')]),\n",
       " 145.40000000000003: ([<matplotlib.lines.Line2D at 0x7f71e51d6b70>],\n",
       "  [Text(145.432,-46.072,'145.4°E')]),\n",
       " 151.30000000000004: ([<matplotlib.lines.Line2D at 0x7f71e51d6f60>],\n",
       "  [Text(151.338,-46.072,'151.3°E')]),\n",
       " 157.20000000000005: ([<matplotlib.lines.Line2D at 0x7f71e52a7390>],\n",
       "  [Text(157.244,-46.072,'157.2°E')])}"
      ]
     },
     "execution_count": 121,
     "metadata": {},
     "output_type": "execute_result"
    },
    {
     "data": {
      "image/png": "[encoded data removed]",
      "text/plain": [
       "<matplotlib.figure.Figure at 0x7f71e5253b70>"
      ]
     },
     "metadata": {},
     "output_type": "display_data"
    }
   ],
   "source": [
    "# set up subplot with coastline and basemap\n",
    "fig = plt.figure(figsize=(10,10))\n",
    "ax = plt.subplot()\n",
    "m = Basemap(llcrnrlon=domain[0], \\\n",
    "        llcrnrlat=domain[2], \\\n",
    "        urcrnrlon=domain[1], \\\n",
    "        urcrnrlat=domain[3], \\\n",
    "        projection='cyl', \\\n",
    "        fix_aspect=False, \\\n",
    "        resolution=resolution)\n",
    "m.drawcoastlines()\n",
    "m.drawparallels(np.arange(np.floor(domain[2]), np.ceil(domain[3]), dy), \\\n",
    "        labels=[1,0,0,0], linewidth=0.75, color='gray') #20\n",
    "m.drawmeridians(np.arange(np.floor(domain[0]), np.ceil(domain[1]), dx), \\\n",
    "        labels=[0,0,0,1], linewidth=0.75,color='gray')\n"
   ]
  },
  {
   "cell_type": "code",
   "execution_count": 122,
   "metadata": {},
   "outputs": [
    {
     "data": {
      "text/plain": [
       "<matplotlib.colorbar.Colorbar at 0x7f71e55d5860>"
      ]
     },
     "execution_count": 122,
     "metadata": {},
     "output_type": "execute_result"
    },
    {
     "data": {
      "image/png": "[encoded data removed]",
      "text/plain": [
       "<matplotlib.figure.Figure at 0x7f71e52de550>"
      ]
     },
     "metadata": {},
     "output_type": "display_data"
    }
   ],
   "source": [
    "# plot the topography\n",
    "# Plot the topography\n",
    "top = ax.pcolorfast(zFid.variables['longitude'][:], \\\n",
    "        zFid.variables['latitude'][:], \\\n",
    "        zFid.variables['topog'][:], \\\n",
    "        vmin=0, \\\n",
    "        vmax=1000, \\\n",
    "        cmap=cm.Blues)\n",
    "colorbar_frame = fig.add_axes([0.82,0.12,0.01,0.3])\n",
    "plt.colorbar(top,label='Elevation [m]',cax=colorbar_frame)"
   ]
  },
  {
   "cell_type": "code",
   "execution_count": 123,
   "metadata": {},
   "outputs": [],
   "source": [
    "# Plot the wind vector as frames\n",
    "anim = FuncAnimation(fig, \\\n",
    "        update_quiver, \\\n",
    "        frames=np.arange(0,nPrs), \\\n",
    "        init_func=init_quiver, \\\n",
    "        interval=400, \\\n",
    "        fargs=(ax,fig), \\\n",
    "        repeat = False, \\\n",
    "        repeat_delay = 1000)"
   ]
  },
  {
   "cell_type": "code",
   "execution_count": 125,
   "metadata": {},
   "outputs": [
    {
     "ename": "NameError",
     "evalue": "name 'modwind' is not defined",
     "output_type": "error",
     "traceback": [
      "\u001b[0;31m---------------------------------------------------------------------------\u001b[0m",
      "\u001b[0;31mNameError\u001b[0m                                 Traceback (most recent call last)",
      "\u001b[0;32m<ipython-input-125-cd3fe8867881>\u001b[0m in \u001b[0;36m<module>\u001b[0;34m()\u001b[0m\n\u001b[0;32m----> 1\u001b[0;31m \u001b[0manim\u001b[0m\u001b[0;34m.\u001b[0m\u001b[0mto_html5_video\u001b[0m\u001b[0;34m(\u001b[0m\u001b[0;34m)\u001b[0m\u001b[0;34m\u001b[0m\u001b[0m\n\u001b[0m",
      "\u001b[0;32m/g/data3/hh5/public/apps/miniconda3/envs/analysis3-18.01/lib/python3.6/site-packages/matplotlib/animation.py\u001b[0m in \u001b[0;36mto_html5_video\u001b[0;34m(self, embed_limit)\u001b[0m\n\u001b[1;32m   1411\u001b[0m                                 \u001b[0mbitrate\u001b[0m\u001b[0;34m=\u001b[0m\u001b[0mrcParams\u001b[0m\u001b[0;34m[\u001b[0m\u001b[0;34m'animation.bitrate'\u001b[0m\u001b[0;34m]\u001b[0m\u001b[0;34m,\u001b[0m\u001b[0;34m\u001b[0m\u001b[0m\n\u001b[1;32m   1412\u001b[0m                                 fps=1000. / self._interval)\n\u001b[0;32m-> 1413\u001b[0;31m                 \u001b[0mself\u001b[0m\u001b[0;34m.\u001b[0m\u001b[0msave\u001b[0m\u001b[0;34m(\u001b[0m\u001b[0mf\u001b[0m\u001b[0;34m.\u001b[0m\u001b[0mname\u001b[0m\u001b[0;34m,\u001b[0m \u001b[0mwriter\u001b[0m\u001b[0;34m=\u001b[0m\u001b[0mwriter\u001b[0m\u001b[0;34m)\u001b[0m\u001b[0;34m\u001b[0m\u001b[0m\n\u001b[0m\u001b[1;32m   1414\u001b[0m \u001b[0;34m\u001b[0m\u001b[0m\n\u001b[1;32m   1415\u001b[0m             \u001b[0;31m# Now open and base64 encode\u001b[0m\u001b[0;34m\u001b[0m\u001b[0;34m\u001b[0m\u001b[0m\n",
      "\u001b[0;32m/g/data3/hh5/public/apps/miniconda3/envs/analysis3-18.01/lib/python3.6/site-packages/matplotlib/animation.py\u001b[0m in \u001b[0;36msave\u001b[0;34m(self, filename, writer, fps, dpi, codec, bitrate, extra_args, metadata, extra_anim, savefig_kwargs)\u001b[0m\n\u001b[1;32m   1252\u001b[0m                 \u001b[0;32mfor\u001b[0m \u001b[0manim\u001b[0m \u001b[0;32min\u001b[0m \u001b[0mall_anim\u001b[0m\u001b[0;34m:\u001b[0m\u001b[0;34m\u001b[0m\u001b[0m\n\u001b[1;32m   1253\u001b[0m                     \u001b[0;31m# Clear the initial frame\u001b[0m\u001b[0;34m\u001b[0m\u001b[0;34m\u001b[0m\u001b[0m\n\u001b[0;32m-> 1254\u001b[0;31m                     \u001b[0manim\u001b[0m\u001b[0;34m.\u001b[0m\u001b[0m_init_draw\u001b[0m\u001b[0;34m(\u001b[0m\u001b[0;34m)\u001b[0m\u001b[0;34m\u001b[0m\u001b[0m\n\u001b[0m\u001b[1;32m   1255\u001b[0m                 for data in zip(*[a.new_saved_frame_seq()\n\u001b[1;32m   1256\u001b[0m                                   for a in all_anim]):\n",
      "\u001b[0;32m/g/data3/hh5/public/apps/miniconda3/envs/analysis3-18.01/lib/python3.6/site-packages/matplotlib/animation.py\u001b[0m in \u001b[0;36m_init_draw\u001b[0;34m(self)\u001b[0m\n\u001b[1;32m   1793\u001b[0m \u001b[0;34m\u001b[0m\u001b[0m\n\u001b[1;32m   1794\u001b[0m         \u001b[0;32melse\u001b[0m\u001b[0;34m:\u001b[0m\u001b[0;34m\u001b[0m\u001b[0m\n\u001b[0;32m-> 1795\u001b[0;31m             \u001b[0mself\u001b[0m\u001b[0;34m.\u001b[0m\u001b[0m_drawn_artists\u001b[0m \u001b[0;34m=\u001b[0m \u001b[0mself\u001b[0m\u001b[0;34m.\u001b[0m\u001b[0m_init_func\u001b[0m\u001b[0;34m(\u001b[0m\u001b[0;34m)\u001b[0m\u001b[0;34m\u001b[0m\u001b[0m\n\u001b[0m\u001b[1;32m   1796\u001b[0m             \u001b[0;32mif\u001b[0m \u001b[0mself\u001b[0m\u001b[0;34m.\u001b[0m\u001b[0m_blit\u001b[0m\u001b[0;34m:\u001b[0m\u001b[0;34m\u001b[0m\u001b[0m\n\u001b[1;32m   1797\u001b[0m                 \u001b[0;32mif\u001b[0m \u001b[0mself\u001b[0m\u001b[0;34m.\u001b[0m\u001b[0m_drawn_artists\u001b[0m \u001b[0;32mis\u001b[0m \u001b[0;32mNone\u001b[0m\u001b[0;34m:\u001b[0m\u001b[0;34m\u001b[0m\u001b[0m\n",
      "\u001b[0;32m<ipython-input-104-0637adbe16b6>\u001b[0m in \u001b[0;36minit_quiver\u001b[0;34m()\u001b[0m\n\u001b[1;32m      4\u001b[0m \t\"\"\"\n\u001b[1;32m      5\u001b[0m         \u001b[0;32mglobal\u001b[0m \u001b[0mQ\u001b[0m\u001b[0;34m\u001b[0m\u001b[0m\n\u001b[0;32m----> 6\u001b[0;31m         \u001b[0mx\u001b[0m\u001b[0;34m,\u001b[0m\u001b[0my\u001b[0m\u001b[0;34m,\u001b[0m\u001b[0mp\u001b[0m\u001b[0;34m,\u001b[0m\u001b[0mu\u001b[0m\u001b[0;34m,\u001b[0m\u001b[0mv\u001b[0m \u001b[0;34m=\u001b[0m \u001b[0mget_uv\u001b[0m\u001b[0;34m(\u001b[0m\u001b[0;36m0\u001b[0m\u001b[0;34m)\u001b[0m\u001b[0;34m\u001b[0m\u001b[0m\n\u001b[0m\u001b[1;32m      7\u001b[0m         \u001b[0mQ\u001b[0m \u001b[0;34m=\u001b[0m \u001b[0max\u001b[0m\u001b[0;34m.\u001b[0m\u001b[0mquiver\u001b[0m\u001b[0;34m(\u001b[0m\u001b[0mx\u001b[0m\u001b[0;34m,\u001b[0m\u001b[0my\u001b[0m\u001b[0;34m,\u001b[0m\u001b[0mu\u001b[0m\u001b[0;34m,\u001b[0m\u001b[0mv\u001b[0m\u001b[0;34m)\u001b[0m\u001b[0;34m\u001b[0m\u001b[0m\n\u001b[1;32m      8\u001b[0m         \u001b[0max\u001b[0m\u001b[0;34m.\u001b[0m\u001b[0mset_title\u001b[0m\u001b[0;34m(\u001b[0m\u001b[0;34m'Pressure level: {:3.3f} hPa'\u001b[0m\u001b[0;34m.\u001b[0m\u001b[0mformat\u001b[0m\u001b[0;34m(\u001b[0m\u001b[0mp\u001b[0m\u001b[0;34m)\u001b[0m\u001b[0;34m,\u001b[0m\u001b[0mfontsize\u001b[0m\u001b[0;34m=\u001b[0m\u001b[0;36m14\u001b[0m\u001b[0;34m)\u001b[0m\u001b[0;34m\u001b[0m\u001b[0m\n",
      "\u001b[0;32m<ipython-input-102-bd98af20e9fd>\u001b[0m in \u001b[0;36mget_uv\u001b[0;34m(j)\u001b[0m\n\u001b[1;32m      4\u001b[0m         \u001b[0midentified\u001b[0m \u001b[0mby\u001b[0m \u001b[0mindex\u001b[0m \u001b[0mj\u001b[0m\u001b[0;34m.\u001b[0m\u001b[0;34m\u001b[0m\u001b[0m\n\u001b[1;32m      5\u001b[0m \t\"\"\"\n\u001b[0;32m----> 6\u001b[0;31m         \u001b[0m_\u001b[0m\u001b[0;34m,\u001b[0m\u001b[0ma\u001b[0m\u001b[0;34m,\u001b[0m\u001b[0mb\u001b[0m \u001b[0;34m=\u001b[0m \u001b[0mmodwind\u001b[0m\u001b[0;34m[\u001b[0m\u001b[0;34m'uwind'\u001b[0m\u001b[0;34m]\u001b[0m\u001b[0;34m.\u001b[0m\u001b[0mshape\u001b[0m\u001b[0;34m\u001b[0m\u001b[0m\n\u001b[0m\u001b[1;32m      7\u001b[0m         \u001b[0mc\u001b[0m \u001b[0;34m=\u001b[0m \u001b[0mmax\u001b[0m\u001b[0;34m(\u001b[0m\u001b[0ma\u001b[0m\u001b[0;34m,\u001b[0m\u001b[0mb\u001b[0m\u001b[0;34m)\u001b[0m\u001b[0;34m\u001b[0m\u001b[0m\n\u001b[1;32m      8\u001b[0m         \u001b[0mivl\u001b[0m \u001b[0;34m=\u001b[0m \u001b[0mc\u001b[0m\u001b[0;34m/\u001b[0m\u001b[0;36m30\u001b[0m\u001b[0;34m\u001b[0m\u001b[0m\n",
      "\u001b[0;31mNameError\u001b[0m: name 'modwind' is not defined"
     ]
    }
   ],
   "source": [
    "anim.to_html5_video()"
   ]
  },
  {
   "cell_type": "code",
   "execution_count": null,
   "metadata": {},
   "outputs": [],
   "source": []
  }
 ],
 "metadata": {
  "kernelspec": {
   "display_name": "Python 3",
   "language": "python",
   "name": "python3"
  },
  "language_info": {
   "codemirror_mode": {
    "name": "ipython",
    "version": 3
   },
   "file_extension": ".py",
   "mimetype": "text/x-python",
   "name": "python",
   "nbconvert_exporter": "python",
   "pygments_lexer": "ipython3",
   "version": "3.6.4"
  }
 },
 "nbformat": 4,
 "nbformat_minor": 2
}
