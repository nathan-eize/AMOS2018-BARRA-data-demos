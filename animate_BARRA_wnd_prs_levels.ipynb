{
 "cells": [
  {
   "cell_type": "markdown",
   "metadata": {},
   "source": [
    "# BOM data workshop excercise #2\n",
    "\n",
    " Creates an animation of the pressure-level wind data from BARRA-TA and BARRA-R sample data using netCDF4 and matplotlib.\n",
    " Wind vectors over 37 pressure levels.\n",
    "\n",
    " Code written for illustrating BARRA pressure-level data.\n",
    "\n",
    " Chun-Hsu Su, 19 January 2018\n",
    " The Bureau of Meteorology\n",
    "\n"
   ]
  },
  {
   "cell_type": "code",
   "execution_count": 2,
   "metadata": {},
   "outputs": [],
   "source": [
    "import os, sys\n",
    "import numpy as np\n",
    "from netCDF4 import Dataset, num2date, date2num\n",
    "from datetime import datetime\n",
    "from datetime import timedelta\n",
    "import matplotlib.pyplot as plt\n",
    "from matplotlib.animation import FuncAnimation\n",
    "import cartopy.crs as ccrs\n",
    "from matplotlib import cm\n",
    "from mpl_toolkits.basemap import Basemap"
   ]
  },
  {
   "cell_type": "markdown",
   "metadata": {},
   "source": [
    "## Define methods needed to render the animation"
   ]
  },
  {
   "cell_type": "code",
   "execution_count": 3,
   "metadata": {},
   "outputs": [],
   "source": [
    "def get_uv(j):\n",
    "\t\"\"\"\n",
    "\tReturns the lon,lat,pres,u,v values for a given pressure level\n",
    "\tidentified by index j.\n",
    "\t\"\"\"\n",
    "\t_,a,b = modwind['uwind'].shape\n",
    "\tc = max(a,b)\n",
    "\tivl = c/30\n",
    "\tx = modwind['lon'][::ivl]\n",
    "\ty = modwind['lat'][::ivl]\n",
    "\tu = modwind['uwind'][j,::ivl,::ivl]\n",
    "\tv = modwind['vwind'][j,::ivl,::ivl]\n",
    "\tp = modwind['prs'][j]\n",
    "\treturn x,y,p,u,v"
   ]
  },
  {
   "cell_type": "code",
   "execution_count": 4,
   "metadata": {},
   "outputs": [],
   "source": [
    "def update_quiver(j,ax,fig):\n",
    "\t\"\"\"\n",
    "\tUpdate the figure with the wind field at pressure level j.\n",
    "\t\"\"\"\n",
    "\tprint(\"Plotting pressure level {:}\".format(j))\n",
    "\tx,y,p,u,v = get_uv(j)\n",
    "\tQ.set_UVC(u,v)\n",
    "\tax.set_title('Pressure level: {:3.3f} hPa'.format(p),fontsize=14)\n",
    "\treturn Q"
   ]
  },
  {
   "cell_type": "code",
   "execution_count": 5,
   "metadata": {},
   "outputs": [],
   "source": [
    "def init_quiver():\n",
    "\t\"\"\"\n",
    "\tInitialise the figure with the wind field at pressure level j = 0.\n",
    "\t\"\"\"\n",
    "\tglobal Q\n",
    "\tx,y,p,u,v = get_uv(0)\n",
    "\tQ = ax.quiver(x,y,u,v)\n",
    "\tax.set_title('Pressure level: {:3.3f} hPa'.format(p),fontsize=14)\n",
    "\t#ax.set_xlabel('Longitude')\n",
    "\t#ax.set_ylabel('Latitude')\n",
    "\treturn Q"
   ]
  },
  {
   "cell_type": "markdown",
   "metadata": {},
   "source": [
    "## Main script"
   ]
  },
  {
   "cell_type": "markdown",
   "metadata": {},
   "source": [
    "### Specify the data inputs"
   ]
  },
  {
   "cell_type": "code",
   "execution_count": 6,
   "metadata": {},
   "outputs": [],
   "source": [
    "# datetime of file to animate, choose 2015/02/17 00 - 18 for sample data \n",
    "dtFile = datetime(2015,2,7,12,0)"
   ]
  },
  {
   "cell_type": "code",
   "execution_count": 7,
   "metadata": {},
   "outputs": [],
   "source": [
    "# model string, choose BARRA_R or BARRA_TA for sample data\n",
    "model = 'BARRA_R'"
   ]
  },
  {
   "cell_type": "code",
   "execution_count": 8,
   "metadata": {},
   "outputs": [],
   "source": [
    "# define forecast hour to animate, 1-6 for SY and TA or 1-9 for R\n",
    "forecastHour = 6"
   ]
  },
  {
   "cell_type": "code",
   "execution_count": 9,
   "metadata": {},
   "outputs": [],
   "source": [
    "# basetime\n",
    "dtBasetime = dtFile - timedelta(hours = forecastHour)"
   ]
  },
  {
   "cell_type": "code",
   "execution_count": 10,
   "metadata": {},
   "outputs": [],
   "source": [
    "### Find the data"
   ]
  },
  {
   "cell_type": "code",
   "execution_count": 11,
   "metadata": {},
   "outputs": [],
   "source": [
    "# Where are your sample data downloaded to?\n",
    "dataDirRoot = '/g/data/ma05/sample'\n",
    "dataDirTemplate = os.path.join(dataDirRoot, '{model}/v1')"
   ]
  },
  {
   "cell_type": "code",
   "execution_count": 12,
   "metadata": {},
   "outputs": [],
   "source": [
    "# iso 1806 time format string\n",
    "isoFormat = '%Y%m%dT%H%MZ'"
   ]
  },
  {
   "cell_type": "code",
   "execution_count": 14,
   "metadata": {},
   "outputs": [],
   "source": [
    "# file names have a specific structure eg:  BARRA_R/v1/forecast/spec/temp_scrn/2015/12/temp_scrn-fc-spec-PT10M-BARRA_R-v1-20151208T1800Z.nc\n",
    "fnTemplate = os.path.join(dataDirTemplate, 'forecast', '{stream}', '{var}',\\\n",
    "                          '{year:04d}', '{month:02d}', '{var}-fc-{stream}-PT1H-{model}-v1-{basetimeStr}.nc')"
   ]
  },
  {
   "cell_type": "code",
   "execution_count": null,
   "metadata": {},
   "outputs": [],
   "source": [
    "uFilename = fntemplate.format(stream='prs', var='wnd_ucmp', year=dtBasetime.year, month = dtBasetime.month, \\\n",
    "                             basetimeStr = dtBasetime.strf)"
   ]
  },
  {
   "cell_type": "code",
   "execution_count": null,
   "metadata": {},
   "outputs": [],
   "source": []
  }
 ],
 "metadata": {
  "kernelspec": {
   "display_name": "Python [conda env:analysis3]",
   "language": "python",
   "name": "conda-env-analysis3-py"
  },
  "language_info": {
   "codemirror_mode": {
    "name": "ipython",
    "version": 3
   },
   "file_extension": ".py",
   "mimetype": "text/x-python",
   "name": "python",
   "nbconvert_exporter": "python",
   "pygments_lexer": "ipython3",
   "version": "3.6.4"
  }
 },
 "nbformat": 4,
 "nbformat_minor": 2
}
